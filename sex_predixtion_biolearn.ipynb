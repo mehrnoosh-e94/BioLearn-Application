{
 "cells": [
  {
   "cell_type": "code",
   "execution_count": 157,
   "id": "9ac0194e-6e00-4045-af85-6aabe06da9d1",
   "metadata": {},
   "outputs": [],
   "source": [
    "from biolearn.data_library import DataLibrary\n",
    "from biolearn import other_biomarkers\n",
    "import pandas as pd\n",
    "import matplotlib.pyplot as plt\n",
    "import seaborn as sns\n",
    "from sklearn.metrics import confusion_matrix\n",
    "import numpy as np\n",
    "from matplotlib.lines import Line2D\n"
   ]
  },
  {
   "cell_type": "code",
   "execution_count": 168,
   "id": "f5fe6c15-b88b-4903-9231-1e4a8e8b0d0e",
   "metadata": {},
   "outputs": [],
   "source": [
    "import warnings\n",
    "\n",
    "with warnings.catch_warnings():\n",
    "    warnings.simplefilter(\"ignore\")"
   ]
  },
  {
   "cell_type": "code",
   "execution_count": 27,
   "id": "0e0cc752-27c5-4135-b509-0aa87f8a968d",
   "metadata": {},
   "outputs": [],
   "source": [
    "sex_dict={1:'female', 2:'male'}"
   ]
  },
  {
   "cell_type": "code",
   "execution_count": null,
   "id": "8523683b-fd0c-4664-946d-a31cad0cbe44",
   "metadata": {
    "scrolled": true
   },
   "outputs": [],
   "source": [
    "# data_source = DataLibrary().get(\"GSE40279\")\n",
    "# data=data_source.load()\n",
    "# methylation_data = data.dnam\n",
    "# sex_df=other_biomarkers.estimate_sex(methylation_data)\n",
    "# GSE40279 = pd.merge(data.metadata[['sex']], sex_df[['predicted_sex']], left_index=True, right_index=True)\n",
    "# GSE40279['sex']=GSE40279['sex'].map(sex_dict)"
   ]
  },
  {
   "cell_type": "code",
   "execution_count": 34,
   "id": "c36d6650-2cd1-4ff9-990f-e900c895f8d8",
   "metadata": {},
   "outputs": [],
   "source": [
    "data_source = DataLibrary().get(\"GSE51057\")\n",
    "data=data_source.load()\n",
    "methylation_data = data.dnam\n",
    "sex_df=other_biomarkers.estimate_sex(methylation_data)\n",
    "GSE51057 = pd.merge(data.metadata[['sex']], sex_df[['predicted_sex']], left_index=True, right_index=True)\n",
    "GSE51057['sex']=GSE51057['sex'].map(sex_dict)"
   ]
  },
  {
   "cell_type": "code",
   "execution_count": 35,
   "id": "f564b36a-cb90-4b1c-88c7-66d33164c445",
   "metadata": {},
   "outputs": [],
   "source": [
    "data_source = DataLibrary().get(\"GSE42861\")\n",
    "data=data_source.load()\n",
    "methylation_data = data.dnam\n",
    "sex_df=other_biomarkers.estimate_sex(methylation_data)\n",
    "GSE42861 = pd.merge(data.metadata[['sex']], sex_df[['predicted_sex']], left_index=True, right_index=True)\n",
    "GSE42861['sex']=GSE42861['sex'].map(sex_dict)"
   ]
  },
  {
   "cell_type": "code",
   "execution_count": 36,
   "id": "127e49a2-b5ff-43e7-aaa3-5fba0b1f5bab",
   "metadata": {},
   "outputs": [],
   "source": [
    "data_source = DataLibrary().get(\"GSE41169\")\n",
    "data=data_source.load()\n",
    "methylation_data = data.dnam\n",
    "sex_df=other_biomarkers.estimate_sex(methylation_data)\n",
    "GSE41169 = pd.merge(data.metadata[['sex']], sex_df[['predicted_sex']], left_index=True, right_index=True)\n",
    "GSE41169['sex']=GSE41169['sex'].map(sex_dict)"
   ]
  },
  {
   "cell_type": "code",
   "execution_count": 51,
   "id": "d5383188-7839-4332-95a1-df7e98bf3caf",
   "metadata": {},
   "outputs": [],
   "source": [
    "# data_source = DataLibrary().get(\"GSE73103\")\n",
    "# data=data_source.load()\n",
    "# methylation_data = data.dnam\n",
    "# sex_df=other_biomarkers.estimate_sex(methylation_data)\n",
    "# GSE73103 = pd.merge(data.metadata[['sex']], sex_df[['predicted_sex']], left_index=True, right_index=True)\n",
    "# # GSE73103['sex']=GSE73103['sex'].map(sex_dict)"
   ]
  },
  {
   "cell_type": "code",
   "execution_count": 62,
   "id": "6cf1efb2-4983-41f5-acf1-bc3cad0033ad",
   "metadata": {
    "collapsed": true,
    "jupyter": {
     "outputs_hidden": true
    }
   },
   "outputs": [
    {
     "data": {
      "text/html": [
       "<div>\n",
       "<style scoped>\n",
       "    .dataframe tbody tr th:only-of-type {\n",
       "        vertical-align: middle;\n",
       "    }\n",
       "\n",
       "    .dataframe tbody tr th {\n",
       "        vertical-align: top;\n",
       "    }\n",
       "\n",
       "    .dataframe thead th {\n",
       "        text-align: right;\n",
       "    }\n",
       "</style>\n",
       "<table border=\"1\" class=\"dataframe\">\n",
       "  <thead>\n",
       "    <tr style=\"text-align: right;\">\n",
       "      <th></th>\n",
       "      <th>sex</th>\n",
       "      <th>predicted_sex</th>\n",
       "    </tr>\n",
       "    <tr>\n",
       "      <th>id</th>\n",
       "      <th></th>\n",
       "      <th></th>\n",
       "    </tr>\n",
       "  </thead>\n",
       "  <tbody>\n",
       "    <tr>\n",
       "      <th>GSM1886364</th>\n",
       "      <td>Male</td>\n",
       "      <td>Female</td>\n",
       "    </tr>\n",
       "    <tr>\n",
       "      <th>GSM1886365</th>\n",
       "      <td>Male</td>\n",
       "      <td>Female</td>\n",
       "    </tr>\n",
       "    <tr>\n",
       "      <th>GSM1886366</th>\n",
       "      <td>Male</td>\n",
       "      <td>Female</td>\n",
       "    </tr>\n",
       "    <tr>\n",
       "      <th>GSM1886367</th>\n",
       "      <td>Female</td>\n",
       "      <td>Female</td>\n",
       "    </tr>\n",
       "    <tr>\n",
       "      <th>GSM1886368</th>\n",
       "      <td>Male</td>\n",
       "      <td>Female</td>\n",
       "    </tr>\n",
       "    <tr>\n",
       "      <th>...</th>\n",
       "      <td>...</td>\n",
       "      <td>...</td>\n",
       "    </tr>\n",
       "    <tr>\n",
       "      <th>GSM1886799</th>\n",
       "      <td>Female</td>\n",
       "      <td>Female</td>\n",
       "    </tr>\n",
       "    <tr>\n",
       "      <th>GSM1886800</th>\n",
       "      <td>Male</td>\n",
       "      <td>Female</td>\n",
       "    </tr>\n",
       "    <tr>\n",
       "      <th>GSM1886801</th>\n",
       "      <td>Female</td>\n",
       "      <td>Female</td>\n",
       "    </tr>\n",
       "    <tr>\n",
       "      <th>GSM1886802</th>\n",
       "      <td>Male</td>\n",
       "      <td>Female</td>\n",
       "    </tr>\n",
       "    <tr>\n",
       "      <th>GSM1886803</th>\n",
       "      <td>Male</td>\n",
       "      <td>Female</td>\n",
       "    </tr>\n",
       "  </tbody>\n",
       "</table>\n",
       "<p>355 rows × 2 columns</p>\n",
       "</div>"
      ],
      "text/plain": [
       "               sex predicted_sex\n",
       "id                              \n",
       "GSM1886364    Male        Female\n",
       "GSM1886365    Male        Female\n",
       "GSM1886366    Male        Female\n",
       "GSM1886367  Female        Female\n",
       "GSM1886368    Male        Female\n",
       "...            ...           ...\n",
       "GSM1886799  Female        Female\n",
       "GSM1886800    Male        Female\n",
       "GSM1886801  Female        Female\n",
       "GSM1886802    Male        Female\n",
       "GSM1886803    Male        Female\n",
       "\n",
       "[355 rows x 2 columns]"
      ]
     },
     "execution_count": 62,
     "metadata": {},
     "output_type": "execute_result"
    }
   ],
   "source": [
    "# GSE73103"
   ]
  },
  {
   "cell_type": "code",
   "execution_count": 55,
   "id": "76d92978-0198-4efd-b93d-7578b56a59a8",
   "metadata": {},
   "outputs": [],
   "source": [
    "data_source = DataLibrary().get(\"GSE64495\")\n",
    "data=data_source.load()\n",
    "methylation_data = data.dnam\n",
    "sex_df=other_biomarkers.estimate_sex(methylation_data)\n",
    "GSE64495 = pd.merge(data.metadata[['sex']], sex_df[['predicted_sex']], left_index=True, right_index=True)\n",
    "# GSE64495['sex']=GSE64495['sex'].map(sex_dict)"
   ]
  },
  {
   "cell_type": "code",
   "execution_count": 63,
   "id": "d87e3724-4b54-4c90-8d62-db024980e432",
   "metadata": {},
   "outputs": [
    {
     "data": {
      "image/png": "[encoded data removed]",
      "text/plain": [
       "<Figure size 2000x500 with 4 Axes>"
      ]
     },
     "metadata": {},
     "output_type": "display_data"
    }
   ],
   "source": [
    "df_list = [GSE51057, GSE42861, GSE41169, GSE64495]\n",
    "df_names = ['GSE51057', 'GSE42861', 'GSE41169', 'GSE64495']\n",
    "fig, axes = plt.subplots(1, 4, figsize=(20, 5), sharey=True)\n",
    "\n",
    "for i, df in enumerate(df_list):\n",
    "    ax = axes[i]\n",
    "    cm = confusion_matrix(df['sex'], df['predicted_sex'])\n",
    "    \n",
    "    df_results = pd.DataFrame({'Actual': df['sex'], 'Predicted': df['predicted_sex']})\n",
    "    \n",
    "    sns.countplot(x='Actual', hue='Predicted', data=df_results, ax=ax)\n",
    "    \n",
    "    ax.set_title(f'Dataset {df_names[i]}')\n",
    "    ax.set_xlabel('Actual Gender')\n",
    "    ax.set_ylabel('Count')\n",
    "\n",
    "plt.tight_layout()\n",
    "\n",
    "plt.show()\n"
   ]
  },
  {
   "cell_type": "code",
   "execution_count": 103,
   "id": "080e0db8-8019-44e6-983c-b944dab3e12a",
   "metadata": {},
   "outputs": [
    {
     "name": "stdout",
     "output_type": "stream",
     "text": [
      "Accuracy: 0.9969604863221885\n",
      "Accuracy: 1.0\n",
      "Accuracy: 0.9789473684210527\n",
      "Accuracy: 0.9911504424778761\n"
     ]
    },
    {
     "name": "stderr",
     "output_type": "stream",
     "text": [
      "/var/folders/01/c9lhjgwd44q7h1qzt9z7_nzw0000gn/T/ipykernel_55508/1784367101.py:5: FutureWarning: DataFrame.applymap has been deprecated. Use DataFrame.map instead.\n",
      "  df = df.applymap(lambda x: x.lower() if isinstance(x, str) else x)\n",
      "/var/folders/01/c9lhjgwd44q7h1qzt9z7_nzw0000gn/T/ipykernel_55508/1784367101.py:5: FutureWarning: DataFrame.applymap has been deprecated. Use DataFrame.map instead.\n",
      "  df = df.applymap(lambda x: x.lower() if isinstance(x, str) else x)\n",
      "/var/folders/01/c9lhjgwd44q7h1qzt9z7_nzw0000gn/T/ipykernel_55508/1784367101.py:5: FutureWarning: DataFrame.applymap has been deprecated. Use DataFrame.map instead.\n",
      "  df = df.applymap(lambda x: x.lower() if isinstance(x, str) else x)\n",
      "/var/folders/01/c9lhjgwd44q7h1qzt9z7_nzw0000gn/T/ipykernel_55508/1784367101.py:5: FutureWarning: DataFrame.applymap has been deprecated. Use DataFrame.map instead.\n",
      "  df = df.applymap(lambda x: x.lower() if isinstance(x, str) else x)\n"
     ]
    }
   ],
   "source": [
    "from sklearn.metrics import accuracy_score, precision_score, recall_score, f1_score\n",
    "df_list = [GSE51057, GSE42861, GSE41169, GSE64495]\n",
    "\n",
    "for i, df in enumerate(df_list):\n",
    "    df = df.applymap(lambda x: x.lower() if isinstance(x, str) else x)\n",
    "    df['predicted_sex'] = df['predicted_sex'].replace({'male': 'male', 'female': 'female'}, regex=True).fillna('other')\n",
    "    y_true=df['sex'].values\n",
    "    y_pred=df['predicted_sex'].values\n",
    "    accuracy = accuracy_score(y_true, y_pred)\n",
    "    \n",
    "    print(f\"Accuracy: {accuracy}\")\n"
   ]
  },
  {
   "cell_type": "code",
   "execution_count": 232,
   "id": "bb65e840-b895-4f5b-b61a-5f92123c59e5",
   "metadata": {},
   "outputs": [
    {
     "data": {
      "image/png": "[encoded data removed]",
      "text/plain": [
       "<Figure size 1000x400 with 1 Axes>"
      ]
     },
     "metadata": {},
     "output_type": "display_data"
    }
   ],
   "source": [
    "# import warnings\n",
    "\n",
    "# warnings.simplefilter(\"ignore\")\n",
    "\n",
    "font = {'family' : 'normal',\n",
    "    'size'   : 12}\n",
    "\n",
    "plt.rc('font', **font)\n",
    "plt.rcParams['font.family'] = 'sans-serif'\n",
    "\n",
    "females=[]\n",
    "males=[]\n",
    "others=[]\n",
    "\n",
    "predicted_females=[]\n",
    "predicted_males=[]\n",
    "predicted_others=[]\n",
    "\n",
    "df_list = [GSE51057, GSE42861, GSE41169, GSE64495]\n",
    "\n",
    "for i in range(len(df_list)):\n",
    "    df=df_list[i]\n",
    "    df = df.applymap(lambda x: x.lower() if isinstance(x, str) else x)\n",
    "    \n",
    "    female=(df['sex']=='female').sum()\n",
    "    male=(df['sex']=='male').sum()\n",
    "    other=df.shape[0]-female-male\n",
    "\n",
    "    predicted_female=(df['predicted_sex']=='female').sum()\n",
    "    predicted_male=(df['predicted_sex']=='male').sum()\n",
    "    predicted_other=df.shape[0]-predicted_female-predicted_male\n",
    "\n",
    "    females.append(female/df.shape[0]*100)\n",
    "    males.append(male/df.shape[0]*100)\n",
    "    others.append(other/df.shape[0]*100)\n",
    "    \n",
    "    predicted_females.append(predicted_female/df.shape[0]*100)\n",
    "    predicted_males.append(predicted_male/df.shape[0]*100)\n",
    "    predicted_others.append(predicted_other/df.shape[0]*100)    \n",
    "\n",
    "fig, ax = plt.subplots(nrows=1, ncols=1, figsize=(10,4),  sharey='row')#sharex=True,\n",
    "plt.subplots_adjust(wspace=0.05, hspace=0.05)\n",
    "labels=df_names\n",
    "sub_labels=['Actual','Predicted']\n",
    "w=0.2\n",
    "c=0.75\n",
    "p=0.15\n",
    "x = np.arange(0, len(labels))   \n",
    "x_=[-(c+p)*w, (c+p)*w, 1-(c+p)*w, 1+(c+p)*w, 2-(c+p)*w, 2+(c+p)*w, 3-(c+p)*w, 3+(c+p)*w ]\n",
    "labels_=['Actual', 'Predicted','Actual', 'Predicted','Actual', 'Predicted','Actual', 'Predicted']\n",
    "\n",
    "\n",
    "ax.bar(x[0]-c*w,females[0], color='#EE7621', width=w)\n",
    "ax.bar(x[0]-c*w,males[0], bottom=females[0], color='#3A5FCD', width=w)\n",
    "ax.bar(x[0]-c*w,others[0], bottom=females[0]+males[0], color='brown', width=w)\n",
    "\n",
    "ax.bar(x[1]-c*w,females[1], color='#EE7621', width=w)\n",
    "ax.bar(x[1]-c*w,males[1], bottom=females[1], color='#3A5FCD', width=w)\n",
    "ax.bar(x[1]-c*w,others[1], bottom=females[1]+males[1], color='brown', width=w)\n",
    "\n",
    "ax.bar(x[2]-c*w,females[2], color='#EE7621', width=w)\n",
    "ax.bar(x[2]-c*w,males[2], bottom=females[2], color='#3A5FCD', width=w)\n",
    "ax.bar(x[2]-c*w,others[2], bottom=females[2]+males[2], color='brown', width=w)\n",
    "\n",
    "ax.bar(x[3]-c*w,females[3], color='#EE7621', width=w)\n",
    "ax.bar(x[3]-c*w,males[3], bottom=females[3], color='#3A5FCD', width=w)\n",
    "ax.bar(x[3]-c*w,others[3], bottom=females[3]+males[3], color='brown', width=w)\n",
    "\n",
    "\n",
    "ax.bar(x[0]+c*w,predicted_females[0], color='orange', width=w)\n",
    "ax.bar(x[0]+c*w,predicted_males[0], bottom=predicted_females[0], color='dodgerblue', width=w)\n",
    "ax.bar(x[0]+c*w,predicted_others[0], bottom=predicted_females[0]+predicted_males[0], color='brown', width=w)\n",
    "\n",
    "ax.bar(x[1]+c*w,predicted_females[1], color='orange', width=w)\n",
    "ax.bar(x[1]+c*w,predicted_males[1], bottom=predicted_females[1], color='dodgerblue', width=w)\n",
    "ax.bar(x[1]+c*w,predicted_others[1], bottom=predicted_females[1]+predicted_males[1], color='brown', width=w)\n",
    "\n",
    "ax.bar(x[2]+c*w,predicted_females[2], color='orange', width=w)\n",
    "ax.bar(x[2]+c*w,predicted_males[2], bottom=predicted_females[2], color='dodgerblue', width=w)\n",
    "ax.bar(x[2]+c*w,predicted_others[2], bottom=predicted_females[2]+predicted_males[2], color='brown', width=w)\n",
    "\n",
    "ax.bar(x[3]+c*w,predicted_females[3], color='orange', width=w)\n",
    "ax.bar(x[3]+c*w,predicted_males[3], bottom=predicted_females[3], color='dodgerblue', width=w)\n",
    "ax.bar(x[3]+c*w,predicted_others[3], bottom=predicted_females[3]+predicted_males[3], color='brown', width=w)\n",
    "\n",
    "    \n",
    "ax.set_xticks(x_, minor=True)\n",
    "ax.set_xticklabels(labels_, minor=True)\n",
    "\n",
    "ax.set_xticks(x)\n",
    "ax.set_xticklabels(labels)\n",
    "ax.tick_params(which='major', pad=20)\n",
    "ax.tick_params(axis=u'both', which=u'both',length=0)\n",
    "\n",
    "ax.set_ylim((-1,105))\n",
    "ax.set_yticks(np.arange(0, 101 ,10))\n",
    "ax.yaxis.grid(True)\n",
    "ax.set_axisbelow(True)\n",
    "\n",
    "ax.set_ylabel('Percentage(%)', labelpad=0)\n",
    "line = Line2D([0,1],[0,1], linewidth=4)\n",
    "legend_labels=['Female','Male', 'Other']\n",
    "legend=fig.legend([line, line, line], legend_labels, loc='upper center',ncol=len(legend_labels), borderaxespad=0.5)\n",
    "handles = legend.legendHandles\n",
    "handles[0].set_color('orange')\n",
    "handles[1].set_color('royalblue')\n",
    "handles[2].set_color('brown')\n",
    "\n",
    "plt.savefig('sex_prediction.png', bbox_inches='tight')\n",
    "\n",
    "plt.show()\n"
   ]
  },
  {
   "cell_type": "code",
   "execution_count": null,
   "id": "e3d6f497-2776-4a19-8221-69e7e12300a8",
   "metadata": {},
   "outputs": [],
   "source": []
  }
 ],
 "metadata": {
  "kernelspec": {
   "display_name": "geneticsenv",
   "language": "python",
   "name": "geneticsenv"
  },
  "language_info": {
   "codemirror_mode": {
    "name": "ipython",
    "version": 3
   },
   "file_extension": ".py",
   "mimetype": "text/x-python",
   "name": "python",
   "nbconvert_exporter": "python",
   "pygments_lexer": "ipython3",
   "version": "3.10.10"
  }
 },
 "nbformat": 4,
 "nbformat_minor": 5
}
